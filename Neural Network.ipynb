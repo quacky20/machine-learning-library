{
 "cells": [
  {
   "cell_type": "markdown",
   "metadata": {},
   "source": [
    "# Neural Network"
   ]
  },
  {
   "cell_type": "code",
   "execution_count": 1,
   "metadata": {},
   "outputs": [],
   "source": [
    "import numpy as np\n",
    "import matplotlib.pyplot as plt\n",
    "import pandas as pd\n",
    "import random"
   ]
  },
  {
   "cell_type": "code",
   "execution_count": 2,
   "metadata": {},
   "outputs": [],
   "source": [
    "def relu(x):\n",
    "    return np.maximum(x,0)\n",
    "\n",
    "def softmax(x):\n",
    "    expX = np.exp(x)\n",
    "    return expX/np.sum(expX, axis = 0, keepdims=True)\n",
    "\n",
    "def relu_prime(x):\n",
    "    return np.array(x > 0, dtype=np.float64)"
   ]
  },
  {
   "cell_type": "code",
   "execution_count": 3,
   "metadata": {},
   "outputs": [],
   "source": [
    "def initialize_parameters(NN_Struct):\n",
    "    parameters = {}\n",
    "    for i in range(1, len(NN_Struct)):\n",
    "        parameters[f\"W{i}\"] = np.random.randn(NN_Struct[i], NN_Struct[i-1]) * 0.01\n",
    "        parameters[f\"b{i}\"] = np.random.randn(NN_Struct[i], 1)\n",
    "\n",
    "    return parameters\n",
    "\n",
    "def forward_propagation(x, parameters):\n",
    "    cache = {\n",
    "        \"A0\" : x\n",
    "    }\n",
    "\n",
    "    for i in range(1, len(parameters)//2 + 1):\n",
    "        W, B = parameters[f\"W{i}\"], parameters[f\"b{i}\"]\n",
    "        z = np.dot(W, cache[f\"A{i-1}\"]) + B\n",
    "        a = relu(z) if i < len(parameters) // 2 else softmax(z)\n",
    "        cache[f\"Z{i}\"] = z\n",
    "        cache[f\"A{i}\"] = a\n",
    "    \n",
    "    return cache, a\n",
    "\n",
    "def backward_propagation(y, parameters, forward_caches):\n",
    "    m = y.shape[1]\n",
    "    gradients = {}\n",
    "    AL = forward_caches[f'A{len(parameters) // 2}']\n",
    "    dAL = - (np.divide(y, AL) - np.divide(1 - y, 1 - AL))\n",
    "\n",
    "    dZ_out = AL - y\n",
    "    dW_out = (1/m) * np.dot(dZ_out, forward_caches[f'A{len(parameters) // 2 - 1}'].T)\n",
    "    db_out = (1/m) * np.sum(dZ_out, axis=1, keepdims=True)\n",
    "\n",
    "    gradients[f'dW{len(parameters) // 2}'] = dW_out\n",
    "    gradients[f'db{len(parameters) // 2}'] = db_out\n",
    "\n",
    "    dAL = np.dot(parameters[f'W{len(parameters) // 2}'].T, dZ_out)\n",
    "\n",
    "    for i in range(len(parameters) // 2 - 1, 0, -1):\n",
    "        Z, A_prev = forward_caches[f'Z{i}'], forward_caches[f'A{i-1}']\n",
    "        W = parameters[f'W{i}']\n",
    "\n",
    "        dZ = np.multiply(dAL, relu_prime(Z))\n",
    "        dW = np.dot(dZ, A_prev.T) / m\n",
    "        db = np.sum(dZ, axis=1, keepdims=True) / m\n",
    "        dA_prev = np.dot(W.T, dZ)\n",
    "\n",
    "        gradients[f'dW{i}'] = dW\n",
    "        gradients[f'db{i}'] = db\n",
    "        dAL = dA_prev\n",
    "\n",
    "    return gradients\n",
    "\n",
    "def update_parameters(parameters, grads, alpha):\n",
    "    for i in range(1,len(parameters)//2 + 1):\n",
    "        parameters[f\"W{i}\"] -= alpha * grads[f\"dW{i}\"]\n",
    "        parameters[f\"b{i}\"] -= alpha * grads[f\"db{i}\"]\n",
    "\n",
    "    return parameters\n",
    "\n",
    "def model(x, y, NN_Struct, alpha, epochs):\n",
    "    parameters = initialize_parameters(NN_Struct)\n",
    "    cost_list = []\n",
    "    for i in range(epochs):\n",
    "        \n",
    "        cache, al = forward_propagation(x, parameters)\n",
    "        \n",
    "        cost = -(1/x.shape[0])*np.sum(y*np.log(al))\n",
    "\n",
    "        grads = backward_propagation(y, parameters, cache)\n",
    "\n",
    "        parameters = update_parameters(parameters, grads, alpha)\n",
    "\n",
    "        if(i%(epochs/10) == 0):\n",
    "            print(f\"Cost after {i} iterations is : {cost:.3f}\")\n",
    "\n",
    "        cost_list.append(cost)\n",
    "\n",
    "    return parameters, cost_list"
   ]
  },
  {
   "cell_type": "code",
   "execution_count": 4,
   "metadata": {},
   "outputs": [],
   "source": [
    "def zscore_normal(x):\n",
    "        mu = np.mean(x,axis=0)\n",
    "        sigma = np.std(x,axis=0)\n",
    "        x_norm = (x-mu)/sigma\n",
    "\n",
    "        return (x_norm)\n",
    "        \n",
    "def mean_normal(x):\n",
    "        mu = np.mean(x,axis=0)\n",
    "        x_norm = (x-mu)/(np.max(x)-np.min(x))\n",
    "                \n",
    "        return (x_norm)\n",
    "\n",
    "def plot_cost(Cost_list, iterations):\n",
    "    t = np.arange(0, iterations)\n",
    "    plt.plot(t, Cost_list)\n",
    "    plt.show"
   ]
  },
  {
   "cell_type": "code",
   "execution_count": 5,
   "metadata": {},
   "outputs": [],
   "source": [
    "file_path = 'Classification_train.csv'\n",
    "df = pd.read_csv(file_path, dtype='float64')\n",
    "\n",
    "y = df.iloc[:, 0].values\n",
    "x = df.iloc[:, 1:].values\n",
    "\n",
    "x_train = x[0:24000]\n",
    "y_train = y[0:24000].reshape(-1,)\n",
    "\n",
    "x_train = x_train.T\n",
    "\n",
    "y_train = np.array(y_train,dtype=int)"
   ]
  },
  {
   "cell_type": "code",
   "execution_count": 6,
   "metadata": {},
   "outputs": [
    {
     "name": "stdout",
     "output_type": "stream",
     "text": [
      "Shape of training set input:  (784, 24000)\n",
      "Shape of training set output:  (24000,)\n"
     ]
    }
   ],
   "source": [
    "print(\"Shape of training set input: \", x_train.shape)\n",
    "print(\"Shape of training set output: \", y_train.shape)"
   ]
  },
  {
   "cell_type": "code",
   "execution_count": 7,
   "metadata": {},
   "outputs": [],
   "source": [
    "targets = np.zeros((len(y_train), 10), np.float32)\n",
    "targets[range(targets.shape[0]),y_train] = 1\n",
    "y_train = targets.T"
   ]
  },
  {
   "cell_type": "code",
   "execution_count": 8,
   "metadata": {},
   "outputs": [
    {
     "name": "stdout",
     "output_type": "stream",
     "text": [
      "Shape of training set output after one-hot encoding:  (10, 24000)\n"
     ]
    }
   ],
   "source": [
    "print(\"Shape of training set output after one-hot encoding: \", y_train.shape)"
   ]
  },
  {
   "cell_type": "code",
   "execution_count": 9,
   "metadata": {},
   "outputs": [
    {
     "name": "stdout",
     "output_type": "stream",
     "text": [
      "Cost after 0 iterations is : 203.396\n",
      "Cost after 100 iterations is : 4.274\n",
      "Cost after 200 iterations is : 2.655\n",
      "Cost after 300 iterations is : 1.906\n",
      "Cost after 400 iterations is : 1.463\n",
      "Cost after 500 iterations is : 1.173\n",
      "Cost after 600 iterations is : 0.970\n",
      "Cost after 700 iterations is : 0.820\n",
      "Cost after 800 iterations is : 0.705\n",
      "Cost after 900 iterations is : 0.614\n"
     ]
    }
   ],
   "source": [
    "iterations = 1000\n",
    "nn_struct = [784, 1250, 10]\n",
    "alpha =    0.0009\n",
    "parameters, cost_list = model(x_train, y_train, nn_struct, alpha = alpha, epochs = iterations)"
   ]
  },
  {
   "cell_type": "code",
   "execution_count": 10,
   "metadata": {},
   "outputs": [
    {
     "data": {
      "image/png": "[encoded data removed]",
      "text/plain": [
       "<Figure size 640x480 with 1 Axes>"
      ]
     },
     "metadata": {},
     "output_type": "display_data"
    }
   ],
   "source": [
    "plot_cost(cost_list, iterations)"
   ]
  },
  {
   "cell_type": "code",
   "execution_count": 11,
   "metadata": {},
   "outputs": [],
   "source": [
    "def accuracy(x, y, params):\n",
    "    forward_cache, a= forward_propagation(x, params)\n",
    "    a_out = forward_cache[f'A{len(parameters)//2}']\n",
    "\n",
    "    a_out = np.argmax(a_out, 0)\n",
    "\n",
    "    y = np.argmax(y, 0)\n",
    "\n",
    "    accuracy = np.mean(a_out == y)*100\n",
    "\n",
    "    return accuracy"
   ]
  },
  {
   "cell_type": "code",
   "execution_count": 12,
   "metadata": {},
   "outputs": [
    {
     "name": "stdout",
     "output_type": "stream",
     "text": [
      "Accuracy for training set: 99.79583333333333\n"
     ]
    }
   ],
   "source": [
    "print(\"Accuracy for training set:\", accuracy(x_train, y_train, parameters))"
   ]
  },
  {
   "cell_type": "code",
   "execution_count": 13,
   "metadata": {},
   "outputs": [],
   "source": [
    "x_cv = x[24000:]\n",
    "y_cv = y[24000:].reshape(-1,)\n",
    "\n",
    "x_cv = x_cv.T\n",
    "\n",
    "y_cv = np.array(y_cv,dtype=int)"
   ]
  },
  {
   "cell_type": "code",
   "execution_count": 14,
   "metadata": {},
   "outputs": [
    {
     "name": "stdout",
     "output_type": "stream",
     "text": [
      "Shape of cross-validation set input:  (784, 6000)\n",
      "Shape of cross-validation set output:  (6000,)\n"
     ]
    }
   ],
   "source": [
    "print(\"Shape of cross-validation set input: \", x_cv.shape)\n",
    "print(\"Shape of cross-validation set output: \", y_cv.shape)"
   ]
  },
  {
   "cell_type": "code",
   "execution_count": 15,
   "metadata": {},
   "outputs": [],
   "source": [
    "targets = np.zeros((len(y_cv), 10), np.float32)\n",
    "targets[range(targets.shape[0]),y_cv] = 1\n",
    "y_cv = targets.T"
   ]
  },
  {
   "cell_type": "code",
   "execution_count": 16,
   "metadata": {},
   "outputs": [
    {
     "name": "stdout",
     "output_type": "stream",
     "text": [
      "Shape of cross-validation set output after one-hot encoding:  (10, 6000)\n"
     ]
    }
   ],
   "source": [
    "print(\"Shape of cross-validation set output after one-hot encoding: \", y_cv.shape)"
   ]
  },
  {
   "cell_type": "code",
   "execution_count": 17,
   "metadata": {},
   "outputs": [
    {
     "name": "stdout",
     "output_type": "stream",
     "text": [
      "Accuracy for cross-validation set: 97.41666666666666\n"
     ]
    }
   ],
   "source": [
    "print(\"Accuracy for cross-validation set:\", accuracy(x_cv, y_cv, parameters))"
   ]
  },
  {
   "cell_type": "code",
   "execution_count": 75,
   "metadata": {},
   "outputs": [
    {
     "name": "stdout",
     "output_type": "stream",
     "text": [
      "Weights found by the neural network:\n",
      "W1: [[ 0.00281898 -0.02033489  0.00251649 ... -0.01717311  0.00743202\n",
      "   0.01794157]\n",
      " [ 0.00236116  0.01362758 -0.01081318 ... -0.00908103  0.01364841\n",
      "  -0.01063471]\n",
      " [-0.01520896 -0.00234642 -0.00085542 ...  0.00308498 -0.00523781\n",
      "   0.01980752]\n",
      " ...\n",
      " [-0.00029338 -0.01068149  0.00540498 ... -0.01108231 -0.01459598\n",
      "   0.0175874 ]\n",
      " [-0.00576676  0.01699039  0.00099527 ...  0.0042988  -0.00091859\n",
      "   0.00688586]\n",
      " [ 0.01125714  0.00209128  0.01219397 ...  0.0119482  -0.00500544\n",
      "   0.00868683]]\n",
      "W2: [[ 0.0082059   0.01341136  0.0164317  ...  0.00709984  0.00691888\n",
      "  -0.01487628]\n",
      " [ 0.00707496  0.01177356  0.00345031 ... -0.00132263 -0.0017518\n",
      "   0.00055222]\n",
      " [ 0.00640744 -0.00339825  0.0080201  ...  0.00622594  0.00711969\n",
      "  -0.00629503]\n",
      " ...\n",
      " [-0.01050665  0.01310802  0.01646812 ... -0.00952612  0.01625465\n",
      "  -0.01485659]\n",
      " [-0.0189971   0.00935031 -0.01031263 ...  0.0044627  -0.00224928\n",
      "   0.00187581]\n",
      " [-0.01238275 -0.00829788  0.0056447  ...  0.01377568 -0.0119541\n",
      "   0.00935634]]\n",
      "\n",
      "Biases found by the neural network:\n",
      "b1: [[ 0.18245919]\n",
      " [-0.82922127]\n",
      " [ 0.51345281]\n",
      " ...\n",
      " [ 0.27406993]\n",
      " [-0.76559248]\n",
      " [ 0.35417934]]\n",
      "b2: [[ 0.6264318 ]\n",
      " [-0.81256247]\n",
      " [ 0.55700828]\n",
      " [-0.6236925 ]\n",
      " [ 0.24374463]\n",
      " [-0.47641953]\n",
      " [-0.20527696]\n",
      " [ 0.86103926]\n",
      " [-0.00532814]\n",
      " [-0.84841564]]\n"
     ]
    }
   ],
   "source": [
    "weights = {}\n",
    "biases = {}\n",
    "\n",
    "for key, value in parameters.items():\n",
    "    if 'W' in key:\n",
    "        weights[key] = value\n",
    "    elif 'b' in key:\n",
    "        biases[key] = value\n",
    "\n",
    "# Example usage\n",
    "print(\"Weights found by the neural network:\")\n",
    "for key, value in weights.items():\n",
    "    print(f\"{key}: {value}\")\n",
    "\n",
    "print(\"\\nBiases found by the neural network:\")\n",
    "for key, value in biases.items():\n",
    "    print(f\"{key}: {value}\")"
   ]
  },
  {
   "cell_type": "code",
   "execution_count": 83,
   "metadata": {},
   "outputs": [],
   "source": [
    "file_path = 'Classification_test.csv'\n",
    "df = pd.read_csv(file_path, dtype='float64')\n",
    "\n",
    "test_id = df.iloc[:, 0].values\n",
    "x_test = df.iloc[:, 1:].values\n",
    "\n",
    "x_test = x_test.T\n",
    "\n",
    "x_test = np.array(x_test, dtype=float)\n",
    "# x_test = mean_normal(x_test)"
   ]
  },
  {
   "cell_type": "code",
   "execution_count": 85,
   "metadata": {},
   "outputs": [
    {
     "name": "stdout",
     "output_type": "stream",
     "text": [
      "Shape of test set input:  (784, 10000)\n"
     ]
    }
   ],
   "source": [
    "print(\"Shape of test set input: \", x_test.shape)"
   ]
  },
  {
   "cell_type": "code",
   "execution_count": 86,
   "metadata": {},
   "outputs": [],
   "source": [
    "forward_cache, a= forward_propagation(x_test, parameters)\n",
    "# a_out = forward_cache[f'A{len(parameters)//2}']\n",
    "\n",
    "y_test = np.argmax(a, 0)"
   ]
  },
  {
   "cell_type": "code",
   "execution_count": 87,
   "metadata": {},
   "outputs": [
    {
     "name": "stdout",
     "output_type": "stream",
     "text": [
      "[0 4 5 ... 0 8 2]\n"
     ]
    }
   ],
   "source": [
    "print(y_test)"
   ]
  },
  {
   "cell_type": "code",
   "execution_count": 89,
   "metadata": {},
   "outputs": [
    {
     "name": "stdout",
     "output_type": "stream",
     "text": [
      "[[1.5795e+04 8.6000e+02 5.3900e+03 ... 6.3400e+02 1.0057e+04 1.3345e+04]\n",
      " [0.0000e+00 4.0000e+00 5.0000e+00 ... 0.0000e+00 8.0000e+00 2.0000e+00]]\n"
     ]
    }
   ],
   "source": [
    "output = np.array((test_id, y_test))\n",
    "print(output)"
   ]
  },
  {
   "cell_type": "code",
   "execution_count": 90,
   "metadata": {},
   "outputs": [],
   "source": [
    "output_data = {'ID': output[0], 'Output': output[1]}\n",
    "\n",
    "output_df = pd.DataFrame(output_data)\n",
    "\n",
    "output_csv_path = 'Neural Network Output.csv'\n",
    "output_df.to_csv(output_csv_path, index = False)"
   ]
  }
 ],
 "metadata": {
  "kernelspec": {
   "display_name": "Python 3",
   "language": "python",
   "name": "python3"
  },
  "language_info": {
   "codemirror_mode": {
    "name": "ipython",
    "version": 3
   },
   "file_extension": ".py",
   "mimetype": "text/x-python",
   "name": "python",
   "nbconvert_exporter": "python",
   "pygments_lexer": "ipython3",
   "version": "3.11.7"
  }
 },
 "nbformat": 4,
 "nbformat_minor": 2
}
