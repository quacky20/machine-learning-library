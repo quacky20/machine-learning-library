{
 "cells": [
  {
   "cell_type": "code",
   "execution_count": 1,
   "metadata": {},
   "outputs": [],
   "source": [
    "import numpy as np\n",
    "import csv\n",
    "import matplotlib.pyplot as plt\n",
    "import copy, math\n",
    "import pandas as pd"
   ]
  },
  {
   "cell_type": "code",
   "execution_count": 36,
   "metadata": {},
   "outputs": [],
   "source": [
    "def zscore_normal(x):\n",
    "        mu = np.mean(x,axis=0)\n",
    "        sigma = np.std(x,axis=0)\n",
    "        x_norm = (x-mu)/sigma\n",
    "\n",
    "        return (x_norm)\n",
    "        \n",
    "def mean_normal(x):\n",
    "        mu = np.mean(x,axis=0)\n",
    "        x_norm = (x-mu)/(np.max(x)-np.min(x))\n",
    "                \n",
    "        return (x_norm)\n",
    "\n",
    "def r2_score(y,y_pred):\n",
    "        y_avg = np.average(y, axis=0)\n",
    "        num = 0\n",
    "        den = 0\n",
    "        for i in range(y.shape[0]):\n",
    "                num = num + (y[i]-y_pred[i])**2\n",
    "                den = den + (y[i]-y_avg)**2\n",
    "        return (1 - (num/den))\n",
    "\n",
    "def mode(row):\n",
    "        unique_ele, count = np.unique(row, return_counts=True)\n",
    "        max_idx = np.argmax(count)\n",
    "        mode = unique_ele[max_idx]\n",
    "\n",
    "        return mode\n",
    "\n",
    "def accuracy(y_pred, y_true):\n",
    "        c = 0\n",
    "        for i in range (y_true.shape[0]):\n",
    "                if y_true[i] == y_pred[i]:\n",
    "                        c += 1\n",
    "                \n",
    "        return (c/y_true.shape[0])\n",
    "        \n",
    "def plot_cost(Cost_list, iterations):\n",
    "        t = np.arange(0, iterations)\n",
    "        plt.plot(t, Cost_list)\n",
    "        plt.show"
   ]
  },
  {
   "cell_type": "code",
   "execution_count": 126,
   "metadata": {},
   "outputs": [],
   "source": [
    "class LinearRegression:\n",
    "\n",
    "    def __init__(self,x,w,b,l,alpha,epochs):\n",
    "        self.x = x\n",
    "        self.w = w\n",
    "        self.b = b\n",
    "        self.l = l\n",
    "        self.alpha = alpha\n",
    "        self.epochs = epochs\n",
    "\n",
    "\n",
    "    def cost(self,y,w,b,l):\n",
    "        m = self.x.shape[0]\n",
    "        f_wb = np.dot(self.x,w) + b\n",
    "        cost = (np.sum(np.square(f_wb-y))/(2*m)) + (l/(2*m)) * np.sum(np.square(w))\n",
    "        return cost\n",
    "    \n",
    "    def grad_fn (self,y,w,b,l):\n",
    "        m = self.x.shape[0]\n",
    "        f_wb = np.dot(self.x, w) + b\n",
    "        err = f_wb - y\n",
    "        dj_dw = (np.dot(err, self.x) / m) + (l/m)*w\n",
    "        dj_db = np.sum(err) / m\n",
    "        return dj_dw, dj_db\n",
    "    \n",
    "    def grad_descent(self,y):\n",
    "        J_history = []\n",
    "        l = self.l\n",
    "        _w = copy.deepcopy(self.w)\n",
    "        _b = self.b\n",
    "\n",
    "        for i in range(self.epochs):\n",
    "\n",
    "            dj_dw,dj_db=self.grad_fn(y,_w,_b,l)\n",
    "\n",
    "            _w = _w - self.alpha * dj_dw\n",
    "            _b = _b - self.alpha * dj_db\n",
    "\n",
    "            if i<100000:\n",
    "                J_history.append(self.cost(y,_w,_b,l))\n",
    "\n",
    "            if i% math.ceil(self.epochs / 10) == 0:\n",
    "                print(f\"Iteration {i:4d}: Cost {J_history[-1]:8.5f}   \")\n",
    "        \n",
    "        return _w, _b, J_history\n",
    "    \n",
    "    def predict(self,x,w,b):\n",
    "        return (np.dot(x,w)+b)\n",
    "    \n",
    "class PolynomialRegression(LinearRegression):\n",
    "\n",
    "    def __init__(self,x,w,b,l,alpha,epochs):\n",
    "        self.x = x\n",
    "        self.w = w\n",
    "        self.b = b\n",
    "        self.l = l\n",
    "        self.alpha = alpha\n",
    "        self.epochs = epochs\n",
    "\n",
    "    def features(self):\n",
    "        m = self.x.shape[1]\n",
    "        data = pd.DataFrame(np.zeros((self.x.shape[0],self.n*m)))\n",
    "        \n",
    "        for j in range(m):   \n",
    "            for i in range(1,self.n+1):  \n",
    "                data.iloc[:,j+((i-1)*m)] = (self.x[:,j]**(i)).reshape(-1,1)\n",
    "        x_poly = np.array(data.values.tolist())\n",
    "        return x_poly\n",
    "\n",
    "    def features_interacting(self):\n",
    "        m = self.x.shape[1]\n",
    "        data = pd.DataFrame(np.zeros((self.x.shape[0],(self.n+2)*m)))\n",
    "        \n",
    "        for j in range(m):   \n",
    "            for i in range(1,self.n+3):  \n",
    "                if i == self.n+1:\n",
    "                    data.iloc[:,j+((i-1)*m)] = (self.x[:,j]*self.x[:,m-j-1]).reshape(-1,1)\n",
    "                elif i == self.n+2:\n",
    "                    data.iloc[:,j+((i-1)*m)] = ((self.x[:,j]**(self.n-1))*self.x[:,m-j-1]).reshape(-1,1)\n",
    "                else:    \n",
    "                    data.iloc[:,j+((i-1)*m)] = (self.x[:,j]**(i)).reshape(-1,1)\n",
    "        x_poly = np.array(data.values.tolist())\n",
    "        return x_poly\n",
    "    \n",
    "class LogisticRegression:\n",
    "    \n",
    "    def __init__(self):\n",
    "        pass\n",
    "\n",
    "    def sigmoid(self,x):\n",
    "        sig = 1/(1+(np.exp(-x)))\n",
    "        return sig\n",
    "    \n",
    "    def cost(self,x,y,w,b):\n",
    "        m = x.shape[0]\n",
    "        f_wb = self.sigmoid(np.dot(x,w) + b)\n",
    "        cost = -np.sum(y * np.log(f_wb) + (1-y) * np.log(1 - f_wb)) / m\n",
    "        return cost\n",
    "    \n",
    "    def grad_fn(self,x,y,w,b):\n",
    "        m = x.shape[0]\n",
    "        f_wb = self.sigmoid(np.dot(x,w) + b)\n",
    "        err = f_wb - y\n",
    "        dj_dw = np.dot(err, x) / m\n",
    "        dj_db = np.sum(err) / m\n",
    "        return dj_dw, dj_db\n",
    "    \n",
    "    def grad_descent(self,x,y,w_in,b_in,alpha,epoch):\n",
    "        J_history = []\n",
    "        w = copy.deepcopy(w_in)\n",
    "        b = b_in\n",
    "        for i in range(epoch):\n",
    "\n",
    "            dj_dw,dj_db=self.grad_fn(x,y,w,b)\n",
    "\n",
    "            w = w - alpha * dj_dw\n",
    "            b = b - alpha * dj_db\n",
    "\n",
    "            if i<100000:\n",
    "                J_history.append(self.cost(x, y, w, b))\n",
    "\n",
    "            if i% math.ceil(epoch / 10) == 0:\n",
    "                print(f\"Iteration {i:4d}: Cost {J_history[-1]:8.5f}   \")\n",
    "        \n",
    "        return w, b, J_history\n",
    "    \n",
    "    def predict(self,x,w,b):\n",
    "        y_pred = np.zeros(x.shape[0])\n",
    "        for i in range(x.shape[0]):\n",
    "            y_pred[i] = self.sigmoid(np.dot(x[i],w)+b)\n",
    "        return y_pred\n",
    "    \n",
    "    def fitnew(self,x,y,w_in,b_in,alpha,epochs):\n",
    "        print(\"Fitting the given dataset..\")\n",
    "        self.theta = []\n",
    "        self.cost_ = []\n",
    "        w = copy.deepcopy(w_in)\n",
    "        b = b_in\n",
    "        # x = np.insert(x, 0, 1, axis=1)\n",
    "        m = len(y)\n",
    "        for i in np.unique(y):\n",
    "            costx = []\n",
    "            y_onevsall = np.where(y == i, 1, 0)\n",
    "            # costlist = []\n",
    "            for _ in range(epochs):\n",
    "                dj_dw,dj_db=self.grad_fn(x,y_onevsall,w,b)\n",
    "\n",
    "                w = w - alpha * dj_dw\n",
    "                b = b - alpha * dj_db\n",
    "            \n",
    "                cost = self.cost(x,y_onevsall,w,b)\n",
    "            print(f\"For {i:4f}: Cost {cost:8.5f}   \")        \n",
    "            self.theta.append((w, i))\n",
    "            # self.cost.append((costlist,i))\n",
    "        \n",
    "        return self.theta, b\n",
    "    \n",
    "    def predictnew(self, X, w, b):\n",
    "        # X = np.insert(X, 0, 1, axis=1)\n",
    "        X_predicted = [max((self.sigmoid(i.dot(theta) + b), c) for theta, c in w)[1] for i in X ]\n",
    "\n",
    "        return X_predicted\n",
    "\n",
    "\n",
    "def multinomial_features(x, n):\n",
    "        m = x.shape[0]\n",
    "\n",
    "        terms = math.comb(n + 2, 2)\n",
    "        features = np.zeros((m, terms + 3))\n",
    "\n",
    "        for i in range(m):\n",
    "            x1, x2, x3 = x[i]\n",
    "            terms = [x1**m1 * x2**m2 * x3**m3 for m1 in range(n + 1) for m2 in range(n + 1) for m3 in range(n + 1) if m1 + m2 + m3 == n]\n",
    "            features[i, :len(terms)] = terms\n",
    "            features[i, -3:] = [x1, x2, x3]  # Add x1, x2, x3 as the last three columns\n",
    "\n",
    "        return features\n",
    "    \n",
    "# def multinomial_features(x, n):\n",
    "#     m = x.shape[0]\n",
    "#     features_count = sum([math.comb(n + i - 1, i) for i in range(1, n + 2)])\n",
    "        \n",
    "#     features = np.zeros((m, features_count))\n",
    "\n",
    "#     for i in range(m):\n",
    "#         current_index = 0\n",
    "\n",
    "#         for j in range(x.shape[1]):\n",
    "#             features[i, current_index] = x[i, j]\n",
    "#             current_index += 1\n",
    "\n",
    "#         for d in range(2, n + 1):\n",
    "#             for m1 in range(d + 1):\n",
    "#                 for m2 in range(d - m1 + 1):\n",
    "#                     m3 = d - m1 - m2\n",
    "#                     features[i, current_index] = x[i, 0]**m1 * x[i, 1]**m2 * x[i, 2]**m3\n",
    "#                     current_index += 1\n",
    "\n",
    "#     return features"
   ]
  },
  {
   "cell_type": "markdown",
   "metadata": {},
   "source": [
    "# Linear Regression"
   ]
  },
  {
   "cell_type": "code",
   "execution_count": 60,
   "metadata": {},
   "outputs": [],
   "source": [
    "file=open('Lineardata_train.csv','r')\n",
    "data=list(csv.reader(file))\n",
    "x=[]\n",
    "y=[]\n",
    "for row in data:\n",
    "    y.append(row[0])\n",
    "for row in data:\n",
    "    x.append(row[1:])\n",
    "file.close()\n",
    "x_train=x[1:24001]\n",
    "y_train=y[1:24001]\n",
    "x_train = np.array(x_train,dtype=float)\n",
    "y_train = np.array(y_train,dtype=float)\n",
    "y_train = y_train.transpose()"
   ]
  },
  {
   "cell_type": "code",
   "execution_count": 61,
   "metadata": {},
   "outputs": [
    {
     "name": "stdout",
     "output_type": "stream",
     "text": [
      "Iteration    0: Cost 64100376.68833   \n",
      "Iteration 1000: Cost  0.13959   \n",
      "Iteration 2000: Cost  0.00506   \n",
      "Iteration 3000: Cost  0.00506   \n",
      "Iteration 4000: Cost  0.00506   \n",
      "Iteration 5000: Cost  0.00506   \n",
      "Iteration 6000: Cost  0.00506   \n",
      "Iteration 7000: Cost  0.00506   \n",
      "Iteration 8000: Cost  0.00506   \n",
      "Iteration 9000: Cost  0.00506   \n"
     ]
    }
   ],
   "source": [
    "initial_w = np.zeros(x_train.shape[1])\n",
    "initial_b = 0\n",
    "\n",
    "x_train = zscore_normal(x_train)\n",
    "\n",
    "iterations = 10000\n",
    "alpha = 0.01\n",
    "l = 10e-12\n",
    "\n",
    "linear_model = LinearRegression(x_train,initial_w,initial_b,l,alpha,iterations)\n",
    "\n",
    "w_final, b_final, J_hist = linear_model.grad_descent(y_train)\n",
    "\n",
    "# print(f\"b,w found by gradient descent: {b_final:0.2f},{w_final} \")\n",
    "\n",
    "y_pred = linear_model.predict(x_train,w_final,b_final)"
   ]
  },
  {
   "cell_type": "code",
   "execution_count": 62,
   "metadata": {},
   "outputs": [
    {
     "name": "stdout",
     "output_type": "stream",
     "text": [
      "R2 Score:  0.9999999999225841\n"
     ]
    }
   ],
   "source": [
    "r2score = r2_score(y_train,y_pred)\n",
    "print(\"R2 Score for train data: \",r2score)"
   ]
  },
  {
   "cell_type": "code",
   "execution_count": 63,
   "metadata": {},
   "outputs": [
    {
     "data": {
      "image/png": "[encoded data removed]",
      "text/plain": [
       "<Figure size 640x480 with 1 Axes>"
      ]
     },
     "metadata": {},
     "output_type": "display_data"
    }
   ],
   "source": [
    "plot_cost(J_hist, iterations)"
   ]
  },
  {
   "cell_type": "code",
   "execution_count": 64,
   "metadata": {},
   "outputs": [],
   "source": [
    "x_test=x[24001:]\n",
    "y_test=y[24001:]\n",
    "x_test = np.array(x_test,dtype=float)\n",
    "y_test = np.array(y_test,dtype=float)\n",
    "y_test = y_test.transpose()\n",
    "x_test = zscore_normal(x_test)"
   ]
  },
  {
   "cell_type": "code",
   "execution_count": 106,
   "metadata": {},
   "outputs": [
    {
     "name": "stdout",
     "output_type": "stream",
     "text": [
      "R2 Score for test data:  0.9919622618692064\n"
     ]
    }
   ],
   "source": [
    "y_test_pred = linear_model.predict(x_test, w_final, b_final)\n",
    "print(\"R2 Score for test data: \",r2_score(y_test,y_test_pred))"
   ]
  },
  {
   "cell_type": "markdown",
   "metadata": {},
   "source": [
    "# Polynomial Regression"
   ]
  },
  {
   "cell_type": "code",
   "execution_count": 98,
   "metadata": {},
   "outputs": [],
   "source": [
    "file=open('Polynomialdata_train.csv','r')\n",
    "data=list(csv.reader(file))\n",
    "x=[]\n",
    "y=[]\n",
    "for row in data:\n",
    "    y.append(row[0])\n",
    "for row in data:\n",
    "    x.append(row[1:])\n",
    "file.close()\n",
    "x_train=x[1:24001]\n",
    "y_train=y[1:24001]\n",
    "x_train = np.array(x_train,dtype=float)\n",
    "y_train = np.array(y_train,dtype=float)\n",
    "y_train = y_train.transpose()"
   ]
  },
  {
   "cell_type": "code",
   "execution_count": 99,
   "metadata": {},
   "outputs": [
    {
     "name": "stdout",
     "output_type": "stream",
     "text": [
      "Iteration    0: Cost 50345047206261.52344   \n",
      "Iteration 1000: Cost 6089837.81863   \n",
      "Iteration 2000: Cost 518.73033   \n",
      "Iteration 3000: Cost 404.28068   \n",
      "Iteration 4000: Cost 404.27795   \n",
      "Iteration 5000: Cost 404.27795   \n",
      "Iteration 6000: Cost 404.27795   \n",
      "Iteration 7000: Cost 404.27795   \n",
      "Iteration 8000: Cost 404.27795   \n",
      "Iteration 9000: Cost 404.27795   \n",
      "b,w found by gradient descent: 1756232.66,[8.18748204e+06 9.09868589e+05 9.58485317e+04 8.14448665e+03\n",
      " 5.42152270e+02 2.74996651e+01 9.53302352e-01 6.66340413e+06\n",
      " 5.78974032e+05 5.63013910e+04 4.25999484e+03 2.54200710e+02\n",
      " 1.12519178e+01 3.37047446e+06 3.05409936e+05 2.58456618e+04\n",
      " 1.68503788e+03 7.57562488e+01 1.30173083e+06 1.18937329e+05\n",
      " 8.45575588e+03 4.17695615e+02 4.18163930e+05 3.40660153e+04\n",
      " 1.92753443e+03 1.18107290e+05 8.42188709e+03 2.86914847e+04\n",
      " 1.63150648e+01 2.23852091e-01 3.58875350e-01] \n"
     ]
    }
   ],
   "source": [
    "degree = 6\n",
    "\n",
    "w=np.zeros([math.comb(degree+2, 2)+3])\n",
    "b=0\n",
    "iterations = 10000\n",
    "alpha = 0.05\n",
    "l = 10e-12\n",
    "\n",
    "# x = regressor.features_interacting(degree,x)\n",
    "x_train = multinomial_features(x_train,degree)\n",
    "x_train = zscore_normal(x_train)\n",
    "\n",
    "regressor = PolynomialRegression(x_train,w,b,l,alpha,iterations,)\n",
    "\n",
    "w_final, b_final, J_hist = regressor.grad_descent(y_train)\n",
    "# print(f\"b,w found by gradient descent: {b_final:0.2f},{w_final} \")\n",
    "\n",
    "y_pred = regressor.predict(x_train,w_final,b_final)"
   ]
  },
  {
   "cell_type": "code",
   "execution_count": 100,
   "metadata": {},
   "outputs": [
    {
     "name": "stdout",
     "output_type": "stream",
     "text": [
      "R2 Score:  0.9999999999930077\n"
     ]
    }
   ],
   "source": [
    "r2score = r2_score(y_train,y_pred)\n",
    "print(\"R2 Score for train data: \",r2score)"
   ]
  },
  {
   "cell_type": "code",
   "execution_count": 103,
   "metadata": {},
   "outputs": [],
   "source": [
    "x_test=x[24000:]\n",
    "y_test=y[24000:]\n",
    "x_test = np.array(x_test,dtype=float)\n",
    "y_test = np.array(y_test,dtype=float)\n",
    "y_test = y_test.transpose()\n",
    "x_test = multinomial_features(x_test,degree)\n",
    "x_test = zscore_normal(x_test)"
   ]
  },
  {
   "cell_type": "code",
   "execution_count": 105,
   "metadata": {},
   "outputs": [
    {
     "name": "stdout",
     "output_type": "stream",
     "text": [
      "R2 Score:  0.9919622618692064\n"
     ]
    }
   ],
   "source": [
    "y_test_pred = regressor.predict(x_test, w_final, b_final)\n",
    "print(\"R2 Score for test data: \", r2_score(y_test,y_test_pred))"
   ]
  },
  {
   "cell_type": "markdown",
   "metadata": {},
   "source": [
    "# Logistic Regression"
   ]
  },
  {
   "cell_type": "code",
   "execution_count": 113,
   "metadata": {},
   "outputs": [],
   "source": [
    "file=open('Classification_train.csv','r')\n",
    "data=list(csv.reader(file))\n",
    "x=[]\n",
    "y=[]\n",
    "for row in data:\n",
    "    y.append(row[0])\n",
    "for row in data:\n",
    "    x.append(row[1:])\n",
    "file.close()\n",
    "x_train=x[1:24001]\n",
    "y_train=y[1:24001]\n",
    "x_train = np.array(x_train,dtype=float)\n",
    "y_train = np.array(y_train,dtype=float)\n",
    "y_train = y_train.transpose()"
   ]
  },
  {
   "cell_type": "code",
   "execution_count": 128,
   "metadata": {},
   "outputs": [
    {
     "name": "stdout",
     "output_type": "stream",
     "text": [
      "Fitting the given dataset..\n",
      "For 0.000000: Cost  0.02719   \n",
      "For 1.000000: Cost  0.01418   \n",
      "For 2.000000: Cost  0.00503   \n",
      "For 3.000000: Cost  0.04913   \n",
      "For 4.000000: Cost  0.02296   \n",
      "For 5.000000: Cost  0.02262   \n",
      "For 6.000000: Cost  0.02930   \n",
      "For 7.000000: Cost  0.05428   \n",
      "For 8.000000: Cost  0.01285   \n",
      "For 9.000000: Cost  0.01666   \n"
     ]
    }
   ],
   "source": [
    "regressor = LogisticRegression()\n",
    "w=np.zeros(x_train.shape[1])\n",
    "b=0\n",
    "x_train = mean_normal(x_train)\n",
    "\n",
    "iterations = 1000\n",
    "alpha = 5.0\n",
    "w_final, b_final = regressor.fitnew(x_train, y_train, w, b, alpha, iterations)\n",
    "# print(f\"b,w found by gradient descent: {b_final:0.2f},{w_final} \")\n",
    "\n",
    "y_pred = regressor.predictnew(x_train, w_final, b_final)"
   ]
  },
  {
   "cell_type": "code",
   "execution_count": 132,
   "metadata": {},
   "outputs": [
    {
     "name": "stdout",
     "output_type": "stream",
     "text": [
      "Accuracy for train data: 0.967667\n"
     ]
    }
   ],
   "source": [
    "print(f\"Accuracy for train data: {accuracy(y_pred, y_train):0.6f}\")"
   ]
  },
  {
   "cell_type": "code",
   "execution_count": 133,
   "metadata": {},
   "outputs": [],
   "source": [
    "x_test=x[24001:]\n",
    "y_test=y[24001:]\n",
    "x_test = np.array(x_test,dtype=float)\n",
    "y_test = np.array(y_test,dtype=float)\n",
    "y_test = y_test.transpose()\n",
    "x_test = mean_normal(x_test)"
   ]
  },
  {
   "cell_type": "code",
   "execution_count": 135,
   "metadata": {},
   "outputs": [
    {
     "name": "stdout",
     "output_type": "stream",
     "text": [
      "Accuracy for test data: 0.959333\n"
     ]
    }
   ],
   "source": [
    "y_test_pred = regressor.predictnew(x_test, w_final, b_final)\n",
    "print(f\"Accuracy for test data: {accuracy(y_test_pred, y_test):0.6f}\")"
   ]
  }
 ],
 "metadata": {
  "kernelspec": {
   "display_name": "Python 3",
   "language": "python",
   "name": "python3"
  },
  "language_info": {
   "codemirror_mode": {
    "name": "ipython",
    "version": 3
   },
   "file_extension": ".py",
   "mimetype": "text/x-python",
   "name": "python",
   "nbconvert_exporter": "python",
   "pygments_lexer": "ipython3",
   "version": "3.11.7"
  }
 },
 "nbformat": 4,
 "nbformat_minor": 2
}
